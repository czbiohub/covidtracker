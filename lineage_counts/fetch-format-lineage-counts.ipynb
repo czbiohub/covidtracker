{
 "cells": [
  {
   "cell_type": "code",
   "execution_count": 1,
   "metadata": {},
   "outputs": [],
   "source": [
    "# !pangolin czb_only.fasta -p"
   ]
  },
  {
   "cell_type": "code",
   "execution_count": 2,
   "metadata": {},
   "outputs": [],
   "source": [
    "import pandas as pd\n",
    "import numpy as np\n",
    "import seaborn as sns\n",
    "from matplotlib import pyplot as plt\n",
    "%matplotlib inline\n",
    "sns.set(style='whitegrid', font_scale=1.2)\n",
    "\n",
    "from covidhub.config import Config\n",
    "from covidhub.google.utils import get_secrets_manager_credentials\n",
    "import covid_database.util as util\n",
    "from covid_database import (\n",
    "    init_db,\n",
    ")\n",
    "from covid_database import session_scope\n",
    "from covid_database.queries.ngs_sample_tracking_query import czb_id_sample_tracking_query, czb_id_sample_tracking_query_by_project\n",
    "import sqlalchemy\n",
    "from sqlalchemy.orm import sessionmaker\n",
    "from sqlalchemy import create_engine\n",
    "import covid_database.models.ngs_sample_tracking as ngs\n",
    "\n",
    "db_uri = util.get_db_uri(\"cliahub/cliahub_rds_read_prod\")\n",
    "interface = init_db(util.get_db_uri(\"cliahub/cliahub_rds_read_prod\"))\n",
    "engine = create_engine(db_uri)\n",
    "sm = sessionmaker(bind=engine)\n",
    "session = sm()"
   ]
  },
  {
   "cell_type": "code",
   "execution_count": 3,
   "metadata": {},
   "outputs": [],
   "source": [
    "## map from project RR code -> county name\n",
    "\n",
    "def get_rr_county_map(session=session):\n",
    "    fields_of_interest = (ngs.Project.location, ngs.Project.rr_project_id, )\n",
    "    distinct_locations = (\n",
    "        session.query(\n",
    "            *fields_of_interest\n",
    "        ).with_entities(\n",
    "            *fields_of_interest\n",
    "        )\n",
    "    )\n",
    "    df = pd.read_sql(\n",
    "        distinct_locations.statement, \n",
    "        distinct_locations.session.bind\n",
    "    )\n",
    "    # return mapping of rr_project_id to location\n",
    "    return {r['rr_project_id'] : str(r['location']) for idx, r in df.iterrows()}\n",
    "\n",
    "rr_to_county = get_rr_county_map()"
   ]
  },
  {
   "cell_type": "code",
   "execution_count": 4,
   "metadata": {},
   "outputs": [],
   "source": [
    "## Pull metadata for **all** samples with a CZB ID\n",
    "all_meta = czb_id_sample_tracking_query(interface)[['gisaid_name', 'collection_date', 'czb_id', 'status', 'external_accession']]\n",
    "\n",
    "## Tidy up formatting, map from projects -> counties\n",
    "all_meta['gisaid_name'] = all_meta['gisaid_name'].map(lambda i: i[8:] if i!=None else np.nan) ## trim off hcov-19/ prefix\n",
    "all_meta['RR'] = all_meta['czb_id'].map(lambda i: i.split('_')[0] if i!=None else i) ## trim off CZB ID\n",
    "all_meta['county'] = all_meta['RR'].map(lambda i: str(rr_to_county[i]) if i in rr_to_county else np.nan) ## map back from RR to county\n",
    "\n",
    "## fix weird dtypes because pandas and sql don't always play nicely\n",
    "all_meta['status'] = all_meta['status'].map(lambda i: i.value if i!=None else '') ## fix enum type\n",
    "all_meta.replace('NaN', np.nan, inplace=True) ## wtf with the dtypes, pandas\n",
    "all_meta.replace(np.datetime64('NAT'), np.nan, inplace=True)\n",
    "\n",
    "qc_pass_meta = all_meta.loc[all_meta['status'].str.contains(\"PASS\", na=False)]"
   ]
  },
  {
   "cell_type": "code",
   "execution_count": 5,
   "metadata": {},
   "outputs": [],
   "source": [
    "## import lineage report, pull out columns we want, rename index to match\n",
    "lineages = pd.read_csv('./lineage_report.csv') \n",
    "lineages = lineages.loc[lineages['probability']>=0.9][['taxon', 'lineage']]\n",
    "lineages.columns = ['gisaid_name', 'lineage'] \n",
    "\n",
    "## merge metadata + lineage info\n",
    "linelist = qc_pass_meta.merge(lineages, on='gisaid_name', how='outer') ## attach lineage info\n",
    "linelist = linelist[['gisaid_name', 'collection_date', 'county', 'lineage']] ## drop unnecessary columns\n",
    "linelist.columns = ['sample', 'collection_date', 'county', 'lineage']"
   ]
  },
  {
   "cell_type": "code",
   "execution_count": 6,
   "metadata": {},
   "outputs": [],
   "source": [
    "## Filter to samples with valid 'county' name, 'collection_date', and 'gisaid_name'\n",
    "linelist = linelist.loc[\n",
    "    (linelist['county'].notnull()) &    \n",
    "    (linelist['sample'].notnull()) & \n",
    "    (linelist['collection_date'].notnull())\n",
    "                           ]   \n",
    "linelist['collection_date'] = pd.to_datetime(linelist['collection_date'], errors='coerce')"
   ]
  },
  {
   "cell_type": "code",
   "execution_count": 7,
   "metadata": {},
   "outputs": [],
   "source": [
    "counts = linelist.groupby(['county', 'lineage', \n",
    "                           pd.Grouper(key='collection_date', freq='W-MON')]).agg('count').reset_index()\n",
    "counts.rename(columns={'sample': 'count'}, inplace=True)\n",
    "# counts['cumulative_count'] = counts['count'].cumsum()"
   ]
  },
  {
   "cell_type": "code",
   "execution_count": 8,
   "metadata": {},
   "outputs": [
    {
     "name": "stdout",
     "output_type": "stream",
     "text": [
      "                   sample collection_date              county    lineage\n",
      "50  USA/CA-CZB-10198/2020      2020-05-12  Santa Clara County    B.1.503\n",
      "51  USA/CA-CZB-10199/2020      2020-06-18  Santa Clara County        B.1\n",
      "52  USA/CA-CZB-10202/2020      2020-05-11  Santa Clara County  B.1.1.119\n",
      "53  USA/CA-CZB-10211/2020      2020-05-13  Santa Clara County    B.1.452\n",
      "54  USA/CA-CZB-10212/2020      2020-05-11  Santa Clara County        B.1 \n",
      "\n",
      "\n",
      "           county lineage collection_date  count\n",
      "0  Alameda County     A.1      2020-04-06      2\n",
      "1  Alameda County     A.1      2020-04-13      5\n",
      "2  Alameda County     A.1      2020-04-20      1\n",
      "3  Alameda County     A.1      2020-05-04      1\n",
      "4  Alameda County     A.1      2020-05-18      1\n"
     ]
    }
   ],
   "source": [
    "print(linelist.head(),'\\n\\n')\n",
    "print(counts.head())\n",
    "\n",
    "linelist.to_csv('lineage_line_list.csv')\n",
    "counts.to_csv('lineage_counts.csv')"
   ]
  },
  {
   "cell_type": "code",
   "execution_count": 8,
   "metadata": {},
   "outputs": [],
   "source": [
    "# def plot_variants_over_time(counts=counts, variants=None):\n",
    "    \n",
    "#     counties = pd.unique(counts['county'])\n",
    "#     fig, axes = plt.subplots(nrows=len(counties), ncols=1, sharex=True)\n",
    "\n",
    "#     for county, ax in zip(counties, axes):\n",
    "#         data = counts.loc[counts['county'] == county]\n",
    "#         sns.lineplot(data=data, x='collection_date', y='sample', hue='lineage')\n",
    "#         ax.set_ylabel(county)\n",
    "#         ax.set_xlabel('Week (lagging)')\n",
    "        \n",
    "#     plt.tight_layout()\n",
    "#     plt.show()\n",
    "    \n",
    "# plot_variants_over_time()"
   ]
  },
  {
   "cell_type": "code",
   "execution_count": null,
   "metadata": {},
   "outputs": [],
   "source": []
  }
 ],
 "metadata": {
  "kernelspec": {
   "display_name": "Python 3",
   "language": "python",
   "name": "python3"
  },
  "language_info": {
   "codemirror_mode": {
    "name": "ipython",
    "version": 3
   },
   "file_extension": ".py",
   "mimetype": "text/x-python",
   "name": "python",
   "nbconvert_exporter": "python",
   "pygments_lexer": "ipython3",
   "version": "3.7.9"
  }
 },
 "nbformat": 4,
 "nbformat_minor": 4
}
